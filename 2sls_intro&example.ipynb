{
 "cells": [
  {
   "cell_type": "markdown",
   "metadata": {},
   "source": [
    "IV regression also called instrumental variable estimation provides the information about the movements in X that are uncorrelated with u. This means that it isolates movements in X that are uncorrelated with u. <br>\n",
    "As a result, it allows the user to identify causal effects. <br>\n",
    "There are some conditions to be met. First, these are some notations. <br>\n",
    "* Endogenous var: var correlated with error term (bad ones) - (X)\n",
    "* Exogenous var: var uncorrelated with error term (good ones) - (W)\n",
    "* Dependent var: target var. -(Y)\n",
    "* Instrument var: -(Z)\n",
    "\n",
    "[How}\n",
    "* 2SLS is divided into two stages.\n",
    "* In the first stage, regress endogenous variable on constant, exogenous variables, and instrument\n",
    "* In the second stage, regress target value on estimated endogenous variable from first stage, constant, and exogenous variables.\n",
    "\n",
    "[Condition1]\n",
    "* For (W) to be an effective control var, including (W) should make instruments uncorrelated with u, which then makes the coefficient of X consistent after generalizing. Means it effectively controls the omitted factor.\n",
    "* W should be independent from u\n",
    "* $E(u_{i}|z_{i}w_{i}) = E(u_{i}|w_{i})$\n",
    "\n",
    "[Condition 2]\n",
    "* X, W, Z all should be i.i.d\n",
    "\n",
    "[Condition 3]\n",
    "* Large outliers should be unlikely\n",
    "\n",
    "[Important condition : instrument relevance]\n",
    "* $cor(z_{i}, x_{i}) \\neq 0 $\n",
    "* Instruments should be related with the endogenous vaiable.\n",
    "* Is Z useful in predicting X, given W?\n",
    "* The more relevant the instrument, more information is available for use in IV regression. \n",
    "* If this relevancy is small, it's called a weak instrument.\n",
    "* If its weak, it won't explain the endogenous variable very well. Meaning that the result will not be generalized.\n",
    "* The coefficient of the endogenous variable in the second stage is $ \\hat{\\beta_{1}} = \\frac{S_{zy}}{S_{zx}} \\xrightarrow{p} \\frac{cov(z,y)}{cov(z,x)}$\n",
    "* So if the instrument is weak or irrelevant, $cov(z,x)$ converges to zero, making $\\hat{\\beta_{1}}$ inconsistent\n",
    "* During first stage, if the F-stat is bigger than 10, no worries. Uses Stock-Yogo test, and the null hypothesis is that the instrument is weak.\n",
    "* If you have a strong instrument, only keep strong ones. Here, you do not need to care about standard errors\n",
    "* If it's exactly identified, and you only have weak instruments, try finding another instruments or use other methods that are not sensitive to weak instruments. (2SLS is sensitive to weak instruments)\n",
    "\n",
    "[Important condition : instrument exogeneity]\n",
    "* $cor(z_{i}, u_{i}) = 0$\n",
    "* Exogeneity of the instruments means that they are uncorrelated with the error term. \n",
    "* If it's exactly identified, needs an expert's judgement. There is no way to statistically test this.\n",
    "* When over identified, use restrictions test\n",
    "* When the error term could be expressed as the following, the coefficients of X should be zero.\n",
    "* $ \\hat{u_{i}} = Y_{i} - \\hat{\\beta_{0}} + \\hat{\\beta_{1}}X_{1i} + \\cdots + \\hat{\\beta_{k}}X_{ki} + \\cdots + \\hat{\\beta_{k+r}}W_{(k+r)i}$\n",
    "* The stat is computed using the homoskedasticity-only F stat, and it's called the J-statistic.\n",
    "* F-stat is done on every coefficients of X, and they are combined. J follows a chi-square dist, df is m-k(# of endogenous - # of instruments)\n",
    "* If exactly identified, degree of freedom of J stat will be m-k = 0, so the stat is also 0.\n",
    "* Null hypothesis is that every instruments are significant.\n",
    "* If null is rejected, some or every instruments are not significant. A judgement call is needed."
   ]
  },
  {
   "cell_type": "markdown",
   "metadata": {},
   "source": [
    "### Example"
   ]
  },
  {
   "cell_type": "markdown",
   "metadata": {},
   "source": [
    "A replication using data from Stock and Watson introduction to econometrics <br>\n",
    "Dataset from :https://www.princeton.edu/~mwatson/Stock-Watson_3u/Students/Stock-Watson-EmpiricalExercises-DataSets.htm"
   ]
  },
  {
   "cell_type": "markdown",
   "metadata": {},
   "source": [
    "1980 Census data.\n",
    "254654 women between the age of 21 and 35. <br><br>\n",
    "morekids. =1 if mom had more than 2 children<br>\n",
    "boy1st.  =1 if 1st child was a boy<br>\n",
    "boy2nd.   =1 if 2nd child was a boy<br>\n",
    "samesex.  =1 if 1st two children same sex<br>\n",
    "agem1. age of mom at census<br>\n",
    "black.  =1 if mom is black<br>\n",
    "hispan.  =1 if mom is Hispanic<br>\n",
    "othrace.  =1 if mom is not black, Hispanic or white<br>\n",
    "weeksm1.  mom's weeks worked in 1979<br>"
   ]
  },
  {
   "cell_type": "code",
   "execution_count": 1,
   "metadata": {},
   "outputs": [
    {
     "name": "stderr",
     "output_type": "stream",
     "text": [
      "C:\\Users\\gieun\\Anaconda3\\lib\\site-packages\\statsmodels\\compat\\pandas.py:56: FutureWarning: The pandas.core.datetools module is deprecated and will be removed in a future version. Please use the pandas.tseries module instead.\n",
      "  from pandas.core import datetools\n"
     ]
    }
   ],
   "source": [
    "import pandas as pd\n",
    "from linearmodels.iv import IV2SLS\n",
    "import statsmodels.api as sm"
   ]
  },
  {
   "cell_type": "code",
   "execution_count": 3,
   "metadata": {},
   "outputs": [],
   "source": [
    "df = pd.read_excel('fertility.xlsx')"
   ]
  },
  {
   "cell_type": "code",
   "execution_count": 4,
   "metadata": {},
   "outputs": [
    {
     "data": {
      "text/html": [
       "<div>\n",
       "<style scoped>\n",
       "    .dataframe tbody tr th:only-of-type {\n",
       "        vertical-align: middle;\n",
       "    }\n",
       "\n",
       "    .dataframe tbody tr th {\n",
       "        vertical-align: top;\n",
       "    }\n",
       "\n",
       "    .dataframe thead th {\n",
       "        text-align: right;\n",
       "    }\n",
       "</style>\n",
       "<table border=\"1\" class=\"dataframe\">\n",
       "  <thead>\n",
       "    <tr style=\"text-align: right;\">\n",
       "      <th></th>\n",
       "      <th>morekids</th>\n",
       "      <th>boy1st</th>\n",
       "      <th>boy2nd</th>\n",
       "      <th>samesex</th>\n",
       "      <th>agem1</th>\n",
       "      <th>black</th>\n",
       "      <th>hispan</th>\n",
       "      <th>othrace</th>\n",
       "      <th>weeksm1</th>\n",
       "    </tr>\n",
       "  </thead>\n",
       "  <tbody>\n",
       "    <tr>\n",
       "      <th>0</th>\n",
       "      <td>0</td>\n",
       "      <td>1</td>\n",
       "      <td>0</td>\n",
       "      <td>0</td>\n",
       "      <td>27</td>\n",
       "      <td>0</td>\n",
       "      <td>0</td>\n",
       "      <td>0</td>\n",
       "      <td>0</td>\n",
       "    </tr>\n",
       "    <tr>\n",
       "      <th>1</th>\n",
       "      <td>0</td>\n",
       "      <td>0</td>\n",
       "      <td>1</td>\n",
       "      <td>0</td>\n",
       "      <td>30</td>\n",
       "      <td>0</td>\n",
       "      <td>0</td>\n",
       "      <td>0</td>\n",
       "      <td>30</td>\n",
       "    </tr>\n",
       "  </tbody>\n",
       "</table>\n",
       "</div>"
      ],
      "text/plain": [
       "   morekids  boy1st  boy2nd  samesex  agem1  black  hispan  othrace  weeksm1\n",
       "0         0       1       0        0     27      0       0        0        0\n",
       "1         0       0       1        0     30      0       0        0       30"
      ]
     },
     "execution_count": 4,
     "metadata": {},
     "output_type": "execute_result"
    }
   ],
   "source": [
    "df.head(2)"
   ]
  },
  {
   "cell_type": "code",
   "execution_count": 9,
   "metadata": {},
   "outputs": [],
   "source": [
    "## add constant term to estimate the constant term beta0\n",
    "df['const'] = 1"
   ]
  },
  {
   "cell_type": "markdown",
   "metadata": {},
   "source": [
    "### Simple OLS"
   ]
  },
  {
   "cell_type": "code",
   "execution_count": 19,
   "metadata": {},
   "outputs": [
    {
     "name": "stdout",
     "output_type": "stream",
     "text": [
      "type of regression is :  <class 'statsmodels.regression.linear_model.OLS'>\n",
      "                            OLS Regression Results                            \n",
      "==============================================================================\n",
      "Dep. Variable:                weeksm1   R-squared:                       0.044\n",
      "Model:                            OLS   Adj. R-squared:                  0.044\n",
      "Method:                 Least Squares   F-statistic:                     2331.\n",
      "Date:                Fri, 04 Jan 2019   Prob (F-statistic):               0.00\n",
      "Time:                        15:48:54   Log-Likelihood:            -1.1412e+06\n",
      "No. Observations:              254654   AIC:                         2.283e+06\n",
      "Df Residuals:                  254648   BIC:                         2.283e+06\n",
      "Df Model:                           5                                         \n",
      "Covariance Type:            nonrobust                                         \n",
      "==============================================================================\n",
      "                 coef    std err          t      P>|t|      [0.025      0.975]\n",
      "------------------------------------------------------------------------------\n",
      "const         -4.8345      0.385    -12.544      0.000      -5.590      -4.079\n",
      "morekids      -6.2304      0.088    -70.696      0.000      -6.403      -6.058\n",
      "agem1          0.8379      0.013     66.389      0.000       0.813       0.863\n",
      "black         11.6642      0.192     60.697      0.000      11.288      12.041\n",
      "hispan         0.4661      0.179      2.599      0.009       0.115       0.818\n",
      "othrace        2.1421      0.203     10.550      0.000       1.744       2.540\n",
      "==============================================================================\n",
      "Omnibus:                     9566.904   Durbin-Watson:                   1.927\n",
      "Prob(Omnibus):                  0.000   Jarque-Bera (JB):            30037.015\n",
      "Skew:                           0.502   Prob(JB):                         0.00\n",
      "Kurtosis:                       1.650   Cond. No.                         279.\n",
      "==============================================================================\n",
      "\n",
      "Warnings:\n",
      "[1] Standard Errors assume that the covariance matrix of the errors is correctly specified.\n"
     ]
    }
   ],
   "source": [
    "## try simple OLS regression\n",
    "## Do women with more than two kids work less than women with two children?\n",
    "\n",
    "reg1 = sm.OLS(endog=df['weeksm1'], exog=df[['const', 'morekids', 'agem1', 'black', 'hispan', 'othrace']], missing='drop')\n",
    "print('type of regression is : ', type(reg1))\n",
    "results = reg1.fit()\n",
    "print(results.summary())\n",
    "\n",
    "## It seems that more than twoo kids lead to about 6 less weeks of labor for women.\n",
    "## Also, number of kids could be correlated with other factors such as the sex of the child"
   ]
  },
  {
   "cell_type": "markdown",
   "metadata": {},
   "source": [
    "### Testing endogeneity"
   ]
  },
  {
   "cell_type": "code",
   "execution_count": 39,
   "metadata": {},
   "outputs": [
    {
     "name": "stdout",
     "output_type": "stream",
     "text": [
      "0.10838777346472657\n"
     ]
    }
   ],
   "source": [
    "## To statistically figure out if 'morekids' is truely endogenous, use another regression to \n",
    "## see the relationship with the error term and 'morekids'\n",
    "\n",
    "reg_test = IV2SLS(df['morekids'], df[['const', 'samesex', 'agem1', 'black', 'hispan', 'othrace']], None, None).fit()\n",
    "df['resid'] = reg_test.resids\n",
    "reg_test2 = IV2SLS(df['weeksm1'], df[['const', 'morekids', 'agem1', 'black', 'hispan', 'othrace', 'resid']], None, None).fit()\n",
    "print(reg_test2.tstats.resid**2)\n",
    "\n",
    "## if the error term from the first regression is significant in predicting 'weeksm1', \n",
    "## it means that variable 'morekids' is endogenous"
   ]
  },
  {
   "cell_type": "markdown",
   "metadata": {},
   "source": [
    "### First stage + test instrument validity"
   ]
  },
  {
   "cell_type": "code",
   "execution_count": 14,
   "metadata": {},
   "outputs": [
    {
     "name": "stdout",
     "output_type": "stream",
     "text": [
      "                            OLS Regression Results                            \n",
      "==============================================================================\n",
      "Dep. Variable:               morekids   R-squared:                       0.024\n",
      "Model:                            OLS   Adj. R-squared:                  0.024\n",
      "Method:                 Least Squares   F-statistic:                     1262.\n",
      "Date:                Fri, 04 Jan 2019   Prob (F-statistic):               0.00\n",
      "Time:                        15:45:34   Log-Likelihood:            -1.7423e+05\n",
      "No. Observations:              254654   AIC:                         3.485e+05\n",
      "Df Residuals:                  254648   BIC:                         3.485e+05\n",
      "Df Model:                           5                                         \n",
      "Covariance Type:            nonrobust                                         \n",
      "==============================================================================\n",
      "                 coef    std err          t      P>|t|      [0.025      0.975]\n",
      "------------------------------------------------------------------------------\n",
      "const         -0.1395      0.009    -16.041      0.000      -0.157      -0.122\n",
      "samesex        0.0680      0.002     35.774      0.000       0.064       0.072\n",
      "agem1          0.0154      0.000     54.681      0.000       0.015       0.016\n",
      "black          0.1005      0.004     23.346      0.000       0.092       0.109\n",
      "hispan         0.1512      0.004     37.694      0.000       0.143       0.159\n",
      "othrace        0.0275      0.005      6.041      0.000       0.019       0.036\n",
      "==============================================================================\n",
      "Omnibus:                     8727.363   Durbin-Watson:                   1.947\n",
      "Prob(Omnibus):                  0.000   Jarque-Bera (JB):            39288.630\n",
      "Skew:                           0.477   Prob(JB):                         0.00\n",
      "Kurtosis:                       1.329   Cond. No.                         281.\n",
      "==============================================================================\n",
      "\n",
      "Warnings:\n",
      "[1] Standard Errors assume that the covariance matrix of the errors is correctly specified.\n"
     ]
    }
   ],
   "source": [
    "## Use 'samesex' as an instrument to rule our the correlation of 'morekids' with the error term\n",
    "## The first stage of 2sls\n",
    "\n",
    "results_fs = sm.OLS(df['morekids'], df[['const', 'samesex', 'agem1', 'black', 'hispan', 'othrace']], missing = 'drop').fit()\n",
    "print(results_fs.summary())\n",
    "\n",
    "## The result shows that samesex is a valid instrument, and it is not weak.\n",
    "## Also, the t-score is 35.774. It is counted as a weak instrument if the F-stat is smaller than 10.\n",
    "## This case, there is only one instrument, so f-stat will be just t-stat, which is bigger than 10.\n",
    "## If the instrument is weak, the coefficient of 'morekids' in the second stage \n",
    "#### will converge to zero if generalized to the entier population because it is related with cov(instrument, endog)"
   ]
  },
  {
   "cell_type": "markdown",
   "metadata": {},
   "source": [
    "### Second stage"
   ]
  },
  {
   "cell_type": "code",
   "execution_count": 18,
   "metadata": {},
   "outputs": [
    {
     "name": "stdout",
     "output_type": "stream",
     "text": [
      "                            OLS Regression Results                            \n",
      "==============================================================================\n",
      "Dep. Variable:                weeksm1   R-squared:                       0.025\n",
      "Model:                            OLS   Adj. R-squared:                  0.025\n",
      "Method:                 Least Squares   F-statistic:                     1310.\n",
      "Date:                Fri, 04 Jan 2019   Prob (F-statistic):               0.00\n",
      "Time:                        15:47:55   Log-Likelihood:            -1.1437e+06\n",
      "No. Observations:              254654   AIC:                         2.287e+06\n",
      "Df Residuals:                  254648   BIC:                         2.287e+06\n",
      "Df Model:                           5                                         \n",
      "Covariance Type:            nonrobust                                         \n",
      "===============================================================================\n",
      "                  coef    std err          t      P>|t|      [0.025      0.975]\n",
      "-------------------------------------------------------------------------------\n",
      "const          -4.7919      0.411    -11.673      0.000      -5.596      -3.987\n",
      "morekidshat    -5.8211      1.258     -4.626      0.000      -8.287      -3.355\n",
      "agem1           0.8316      0.023     35.987      0.000       0.786       0.877\n",
      "black          11.6233      0.231     50.285      0.000      11.170      12.076\n",
      "hispan          0.4042      0.262      1.540      0.123      -0.110       0.918\n",
      "othrace         2.1310      0.208     10.252      0.000       1.724       2.538\n",
      "==============================================================================\n",
      "Omnibus:                    10156.092   Durbin-Watson:                   1.928\n",
      "Prob(Omnibus):                  0.000   Jarque-Bera (JB):            32175.755\n",
      "Skew:                           0.519   Prob(JB):                         0.00\n",
      "Kurtosis:                       1.602   Cond. No.                         921.\n",
      "==============================================================================\n",
      "\n",
      "Warnings:\n",
      "[1] Standard Errors assume that the covariance matrix of the errors is correctly specified.\n"
     ]
    }
   ],
   "source": [
    "## Now, retrieve morekids(hat) to use it in the second stage\n",
    "df['morekidshat'] = results_fs.predict()\n",
    "\n",
    "results_ss = sm.OLS(df['weeksm1'], df[['const', 'morekidshat', 'agem1', 'black', 'hispan', 'othrace']], missing = 'drop').fit()\n",
    "print(results_ss.summary())\n",
    "\n",
    "## The result shows that the coefficient of morekids is -5.8211, not -6.23.\n",
    "## The variable was biased, and by bringing in the instrument, the bias is partially fixed."
   ]
  },
  {
   "cell_type": "markdown",
   "metadata": {},
   "source": [
    "### 2SLS with single model"
   ]
  },
  {
   "cell_type": "code",
   "execution_count": 28,
   "metadata": {},
   "outputs": [
    {
     "name": "stdout",
     "output_type": "stream",
     "text": [
      "                          IV-2SLS Estimation Summary                          \n",
      "==============================================================================\n",
      "Dep. Variable:                weeksm1   R-squared:                      0.0437\n",
      "Estimator:                    IV-2SLS   Adj. R-squared:                 0.0437\n",
      "No. Observations:              254654   F-statistic:                    6955.0\n",
      "Date:                Fri, Jan 04 2019   P-value (F-stat)                0.0000\n",
      "Time:                        18:47:28   Distribution:                  chi2(5)\n",
      "Cov. Estimator:                robust                                         \n",
      "                                                                              \n",
      "                             Parameter Estimates                              \n",
      "==============================================================================\n",
      "            Parameter  Std. Err.     T-stat    P-value    Lower CI    Upper CI\n",
      "------------------------------------------------------------------------------\n",
      "const         -4.7919     0.3898    -12.294     0.0000     -5.5559     -4.0279\n",
      "agem1          0.8316     0.0226     36.730     0.0000      0.7872      0.8760\n",
      "black          11.623     0.2318     50.145     0.0000      11.169      12.078\n",
      "hispan         0.4042     0.2608     1.5498     0.1212     -0.1070      0.9153\n",
      "othrace        2.1310     0.2110     10.100     0.0000      1.7174      2.5445\n",
      "morekids      -5.8211     1.2464    -4.6703     0.0000     -8.2639     -3.3782\n",
      "==============================================================================\n",
      "\n",
      "Endogenous: morekids\n",
      "Instruments: samesex\n",
      "Robust Covariance (Heteroskedastic)\n",
      "Debiased: False\n"
     ]
    }
   ],
   "source": [
    "## This could be done with a single model.\n",
    "\n",
    "iv = IV2SLS(dependent = df['weeksm1'], exog = df[['const', 'agem1', 'black', 'hispan', 'othrace']],\n",
    "           endog = df['morekids'],\n",
    "           instruments = df['samesex']).fit()\n",
    "print(iv.summary)\n",
    "\n",
    "## you can see that the results are exactly the same."
   ]
  }
 ],
 "metadata": {
  "kernelspec": {
   "display_name": "Python 3",
   "language": "python",
   "name": "python3"
  },
  "language_info": {
   "codemirror_mode": {
    "name": "ipython",
    "version": 3
   },
   "file_extension": ".py",
   "mimetype": "text/x-python",
   "name": "python",
   "nbconvert_exporter": "python",
   "pygments_lexer": "ipython3",
   "version": "3.6.4"
  }
 },
 "nbformat": 4,
 "nbformat_minor": 2
}
